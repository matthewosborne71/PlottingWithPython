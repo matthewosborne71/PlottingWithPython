{
 "cells": [
  {
   "cell_type": "markdown",
   "metadata": {},
   "source": [
    "# Plotting With Python\n",
    "\n",
    "You can do a lot of data science and machine learning with python, but the techniques are useless if you're unable to communicate the story of the data to the outside world. Now this can be done through tables and words, but as they say a picture is worth a thousand words. \n",
    "\n",
    "In this notebook we'll take a tour through various plotting packages in python. We'll start with the foundation `matplotlib`, move on to more stunning plots with `seaborn`, and end with interactive visualizations with `bokeh`.\n",
    "\n",
    "Let's go ahead and get started."
   ]
  },
  {
   "cell_type": "markdown",
   "metadata": {},
   "source": [
    "## matplotlib\n",
    "\n",
    "Now I'm sure a number of you have experience with MATLAB. `matplotlib` was a project started by John Hunter in 2002 to enable MATLAB like plotting in python. If you've done a lot of plotting in MATLAB matplotlib will come very naturally to you. Let's start by importing the package, and setting it so that our plots will display properly in the notebook."
   ]
  },
  {
   "cell_type": "code",
   "execution_count": null,
   "metadata": {},
   "outputs": [],
   "source": [
    "# matplotlib.pyplot contains most of the matplotlib functionality\n",
    "# we'll need\n",
    "import matplotlib.pyplot as plt\n",
    "\n",
    "# Run this code to make plots display properly in notebooks\n",
    "%matplotlib inline"
   ]
  },
  {
   "cell_type": "code",
   "execution_count": null,
   "metadata": {},
   "outputs": [],
   "source": [
    "# We'll use this package to generate data\n",
    "import numpy as np\n",
    "\n",
    "# We'll use pandas as well\n",
    "import pandas as pd"
   ]
  },
  {
   "cell_type": "code",
   "execution_count": null,
   "metadata": {},
   "outputs": [],
   "source": [
    "# Let's consider this command we've seen before\n",
    "plt.plot(np.random.randn(20))\n",
    "\n",
    "plt.show()"
   ]
  },
  {
   "cell_type": "markdown",
   "metadata": {},
   "source": [
    "What did this command do? Well it plotted the `np array`, duh. Behind the scenes what is happening? `matplotlib` creates a figure object, and on that object it places a subplot object, and finally it places the points from our array on the subplot then connects the points with straight lines. This works well when we want to investigate a single plot, but perhaps we want more. We'll see how to manually create figure objects and subplots now."
   ]
  },
  {
   "cell_type": "code",
   "execution_count": null,
   "metadata": {},
   "outputs": [],
   "source": [
    "# This creates a figure object\n",
    "fig = plt.figure()\n",
    "plt.show()"
   ]
  },
  {
   "cell_type": "markdown",
   "metadata": {},
   "source": [
    "Now nothing showed up because we didn't put a subplot on the figure. We can add a subplot onto the figure and then we'll see an empty box."
   ]
  },
  {
   "cell_type": "code",
   "execution_count": null,
   "metadata": {},
   "outputs": [],
   "source": [
    "# We have to make a new figure each code block\n",
    "# In jupyter the figure is reset each block\n",
    "# We can set the figsize, the units are inches\n",
    "fig = plt.figure(figsize = (10,6))\n",
    "\n",
    "# let's add subplots!\n",
    "fig.add_subplot(2, 2, 1)\n",
    "fig.add_subplot(2, 2, 4)\n",
    "\n",
    "# We added a plot in a 2 x 2 configuration in the 3rd position\n",
    "plt.show()"
   ]
  },
  {
   "cell_type": "code",
   "execution_count": null,
   "metadata": {},
   "outputs": [],
   "source": [
    "# That may have been annoying\n",
    "# We can create a figure with many subplots at once\n",
    "fig, axes = plt.subplots(2, 3, figsize = (10,6))\n",
    "\n",
    "plt.show()"
   ]
  },
  {
   "cell_type": "markdown",
   "metadata": {},
   "source": [
    "Now we've created some blank plots... how do we make them not.. blank.. plots?\n",
    "\n",
    "Like so."
   ]
  },
  {
   "cell_type": "code",
   "execution_count": null,
   "metadata": {},
   "outputs": [],
   "source": [
    "# import numpy to get some data\n",
    "import numpy as np"
   ]
  },
  {
   "cell_type": "code",
   "execution_count": null,
   "metadata": {},
   "outputs": [],
   "source": [
    "# fig is the figure object\n",
    "# axes is an array of subplot objects\n",
    "# you can index it like a list or array\n",
    "fig, axes = plt.subplots(2, 2, figsize = (8,6))\n",
    "\n",
    "# We'll plot a histogram on axes[0,0]\n",
    "axes[0,0].hist(np.random.randn(1000), bins = 50)\n",
    "\n",
    "# A random walk on axes[0,1]\n",
    "axes[0,1].plot(np.random.randn(20).cumsum(),'r--')\n",
    "\n",
    "# A scatter plot on axes[0,0]\n",
    "axes[1,0].scatter(np.random.random(20), np.random.randn(20), color = 'g')\n",
    "\n",
    "# Some text on axes[1,1]\n",
    "axes[1,1].text(0.2, 0.5, \"Hi Mom\", fontsize = 14)\n",
    "\n",
    "plt.show()"
   ]
  },
  {
   "cell_type": "markdown",
   "metadata": {},
   "source": [
    "There are even more options we can add to our plots.\n",
    "\n",
    "For instance notice that there is white space between the plots. We can adjust that with `plt.subplots_adjust` with the `wspace` and `hspace` arguments. These arguments accept a nonnegative number."
   ]
  },
  {
   "cell_type": "code",
   "execution_count": null,
   "metadata": {},
   "outputs": [],
   "source": [
    "# Play around with vspace and hspace here\n",
    "fig, axes = plt.subplots(2, 2, figsize = (8,6))\n",
    "\n",
    "# We'll plot a histogram on axes[0,0]\n",
    "axes[0,0].hist(np.random.randn(1000), bins = 50)\n",
    "\n",
    "# A random walk on axes[0,1]\n",
    "axes[0,1].plot(np.random.randn(20).cumsum(),'r--')\n",
    "\n",
    "# A scatter plot on axes[0,0]\n",
    "axes[1,0].scatter(np.random.random(20), np.random.randn(20), color = 'g')\n",
    "\n",
    "# Some text on axes[1,1]\n",
    "axes[1,1].text(0.2, 0.5, \"Hi Mom\", fontsize = 14)\n",
    "\n",
    "plt.subplots_adjust(wspace = 0, hspace=0)\n",
    "\n",
    "plt.show()"
   ]
  },
  {
   "cell_type": "markdown",
   "metadata": {},
   "source": [
    "Try making wspace and hspace 0. Isn't it unappealing to have the vertical axes ticks overlap with the other plots? In this instance this probably indicates that we should leave some white space between the plots. However, there are instances where it makes snese to not have axis tick labels on each plot. For instance, say that the plots occur on the same scale, or we'd like to compare the outputs to see if there are differences. If we want the x and y axes to be the same for all the plots we can use the `sharex` and `sharey` commands."
   ]
  },
  {
   "cell_type": "code",
   "execution_count": null,
   "metadata": {},
   "outputs": [],
   "source": [
    "fig, axes = plt.subplots(2, 2, figsize = (8,6), sharex = True, sharey = True)\n",
    "\n",
    "axes[0,0].plot(np.random.randn(30))\n",
    "axes[0,1].plot(np.random.randn(30))\n",
    "axes[1,0].plot(np.random.randn(30))\n",
    "axes[1,1].text(0,0,\"Yay sharex and sharey\", fontsize = 14)"
   ]
  },
  {
   "cell_type": "markdown",
   "metadata": {},
   "source": [
    "You may have noticed that we can control the appearance of what is plotted. Here's a quick cheatsheet:\n",
    "\n",
    "\n",
    "\n",
    "| Color           | Description  |\n",
    "| :-------------: |:------------:|\n",
    "| r               | red          |\n",
    "| b               | blue         |\n",
    "| k               | black        |\n",
    "| g               | green        |\n",
    "| y               | yellow       |\n",
    "| m               | magenta      |\n",
    "| c               | cyan         |\n",
    "| w               | white        |\n",
    "\n",
    "|Line Style | Description   |\n",
    "|:---------:|:-------------:|\n",
    "| -         | Solid line    |\n",
    "| --        | Dashed line   |\n",
    "| :         | Dotted line   |\n",
    "| -.        | Dash-dot line |\n",
    "\n",
    "| Marker | Description    |\n",
    "|:------:|:--------------:|\n",
    "|o       | Circle         |\n",
    "|+       | Plus Sign      |\n",
    "|*       | Asterisk       |\n",
    "|.       | Point          |\n",
    "| x      | Cross          |\n",
    "| s      | Square         |\n",
    "|d       | Diamond        |\n",
    "|^       | Up Triangle    |\n",
    "|<       | Right Triangle |\n",
    "|>       | Left Triangle  |\n",
    "|p       | Pentagram      |\n",
    "| h      | hexagram       |\n",
    "\n"
   ]
  },
  {
   "cell_type": "markdown",
   "metadata": {},
   "source": [
    "#### Practice :D"
   ]
  },
  {
   "cell_type": "code",
   "execution_count": null,
   "metadata": {},
   "outputs": [],
   "source": [
    "fig, ax = plt.subplots(1,1)\n",
    "\n",
    "n = 75\n",
    "\n",
    "ax.plot(np.random.random(n), np.random.random(n),'kx',alpha = .7)\n",
    "\n",
    "# Play around with the following commands\n",
    "# ax.get_xlim()\n",
    "# ax.set_ylim()\n",
    "# ax.xlabel()\n",
    "# ax.set_xticks()\n",
    "# ax.set_xticklabels()\n",
    "\n",
    "plt.show()"
   ]
  },
  {
   "cell_type": "markdown",
   "metadata": {},
   "source": [
    "We'll finish up our `matplotlib` section by adding legends to our plots and then seeing how we can add shapes to our plots.\n",
    "\n",
    "We'll examine legends with the iris data set."
   ]
  },
  {
   "cell_type": "code",
   "execution_count": null,
   "metadata": {},
   "outputs": [],
   "source": [
    "iris = pd.read_csv(\"iris.csv\")\n",
    "\n",
    "iris.head()"
   ]
  },
  {
   "cell_type": "code",
   "execution_count": null,
   "metadata": {},
   "outputs": [],
   "source": [
    "classes = list(set(iris['class']))\n",
    "colors = ['red','blue','green']\n",
    "\n",
    "for i in range(len(classes)):\n",
    "    subset = iris.loc[iris['class'] == classes[i],['sepal_length','sepal_width']]\n",
    "    # label is used to identify the points that were plotted\n",
    "    plt.scatter(subset.sepal_length, subset.sepal_width, color = colors[i], label = classes[i])\n",
    "\n",
    "plt.xlabel(\"Sepal Length\", fontsize = 12)\n",
    "plt.ylabel(\"Sepal Width\", fontsize = 12)\n",
    "    \n",
    "# Now we insert the legend\n",
    "# By default the legend is placed in the 'best' location\n",
    "plt.legend()\n",
    "\n",
    "plt.show()"
   ]
  },
  {
   "cell_type": "markdown",
   "metadata": {},
   "source": [
    "#### Practice :D"
   ]
  },
  {
   "cell_type": "code",
   "execution_count": null,
   "metadata": {},
   "outputs": [],
   "source": [
    "beers = pd.read_csv('beer.csv')\n",
    "beers.head()"
   ]
  },
  {
   "cell_type": "code",
   "execution_count": null,
   "metadata": {},
   "outputs": [],
   "source": [
    "beers.tail()"
   ]
  },
  {
   "cell_type": "code",
   "execution_count": null,
   "metadata": {},
   "outputs": [],
   "source": [
    "# Plot IBU vs ABV for the beers dataframe\n",
    "# plot IPA in red and Stouts in black\n",
    "\n",
    "\n",
    "\n",
    "\n",
    "\n",
    "\n",
    "\n",
    "\n",
    "\n"
   ]
  },
  {
   "cell_type": "markdown",
   "metadata": {},
   "source": [
    "We'll end our `matplotlib` section with how to put shapes in a plot. The `matplotlib.patches` sub-package contains methods for making a number of shapes. Luckily we can make circles, rectangles, and triangles with just `matplotlib.pyplot`"
   ]
  },
  {
   "cell_type": "code",
   "execution_count": null,
   "metadata": {},
   "outputs": [],
   "source": [
    "figure, ax = plt.subplots(1,1, figsize = (6,6))\n",
    "\n",
    "rect = plt.Rectangle((0.2, 0.75), 0.4, 0.15, color = 'r', alpha = 0.3)\n",
    "circ = plt.Circle((.8,.3), .1, color = 'b', alpha = .5)\n",
    "pgon = plt.Polygon(((.2,.2), (.7,.2), (.5,.6)), color = 'g', alpha = .7)\n",
    "\n",
    "ax.add_patch(rect)\n",
    "ax.add_patch(circ)\n",
    "ax.add_patch(pgon)\n",
    "\n",
    "plt.show()"
   ]
  },
  {
   "cell_type": "markdown",
   "metadata": {},
   "source": [
    "We're ready to move on from base `matplotlib`. Next we'll move on to `seaborn` a package built on top of `matplotlib`. If you'd like to learn more about `matplotlib` check out the documentation here: https://matplotlib.org\n",
    "\n",
    "## Seaborn\n",
    "\n",
    "`seaborn` is a powerful plotting package, if you've seen R's ggplot library the two are quite similar. It simplifies some of the work we had to do in `matplotlib`. Here's an example."
   ]
  },
  {
   "cell_type": "code",
   "execution_count": null,
   "metadata": {},
   "outputs": [],
   "source": [
    "import seaborn as sns"
   ]
  },
  {
   "cell_type": "code",
   "execution_count": null,
   "metadata": {},
   "outputs": [],
   "source": [
    "# We return to the iris data\n",
    "\n",
    "\n",
    "# This plot makes a scatter plot, it will also fit a linear\n",
    "# regression line, but we've told it not to with fit_reg = False\n",
    "sns.lmplot(data = iris, x = 'sepal_length', y = 'sepal_width', hue = 'class', \n",
    "           fit_reg = False, height = 6, aspect = 1)\n",
    "plt.xlabel(\"Sepal Length\", fontsize = 12)\n",
    "plt.ylabel(\"Sepal Width\", fontsize = 12)\n",
    "\n",
    "plt.show()"
   ]
  },
  {
   "cell_type": "markdown",
   "metadata": {},
   "source": [
    "That was much nicer, we didn't need to make a for loop at all! We can also take advantage of the extra features `seaborn` offers. If we wanted a regression line with `matplotlib` we would have needed to fit the model and then plot the line. With `seaborn` we get it for free!"
   ]
  },
  {
   "cell_type": "code",
   "execution_count": null,
   "metadata": {},
   "outputs": [],
   "source": [
    "sns.lmplot(data = iris, x = 'sepal_length', y = 'sepal_width', \n",
    "           hue = 'class', height = 6, aspect = 1)\n",
    "plt.xlabel(\"Sepal Length\", fontsize = 12)\n",
    "plt.ylabel(\"Sepal Width\", fontsize = 12)\n",
    "\n",
    "plt.show()"
   ]
  },
  {
   "cell_type": "markdown",
   "metadata": {},
   "source": [
    "#### Practice :o"
   ]
  },
  {
   "cell_type": "code",
   "execution_count": null,
   "metadata": {},
   "outputs": [],
   "source": [
    "# Remake the ibu vs abu plot with different shaped markers\n",
    "# for beer type\n",
    "\n",
    "\n",
    "\n",
    "\n",
    "\n",
    "\n",
    "\n",
    "\n"
   ]
  },
  {
   "cell_type": "markdown",
   "metadata": {},
   "source": [
    "Now that we've seen how `seaborn` can make some plotting jobs easier. Let's see how we can use it to make statistically descriptive plots. Our examples will be histograms/density plots, box and whisker plots, and swarmplots.\n",
    "\n",
    "### Histograms\n",
    "\n",
    "Let's start with histograms."
   ]
  },
  {
   "cell_type": "code",
   "execution_count": null,
   "metadata": {},
   "outputs": [],
   "source": [
    "# First make some normal data\n",
    "data = 2*np.random.randn(100) + 3\n",
    "\n",
    "# distplot helps visualize the distribution for continuous data\n",
    "sns.distplot(data, bins = 10, kde = False, hist_kws = {'alpha':1})\n",
    "\n",
    "plt.show()"
   ]
  },
  {
   "cell_type": "code",
   "execution_count": null,
   "metadata": {},
   "outputs": [],
   "source": [
    "# Earlier we had kde = False, what if it was True?\n",
    "\n",
    "sns.distplot(data, bins = 10, kde = True, hist_kws = {'alpha':.5})\n",
    "\n",
    "\n",
    "plt.show()"
   ]
  },
  {
   "cell_type": "markdown",
   "metadata": {},
   "source": [
    "#### Practice 8o"
   ]
  },
  {
   "cell_type": "code",
   "execution_count": null,
   "metadata": {},
   "outputs": [],
   "source": [
    "# It puts a kernel density estimate on top of the histogram\n",
    "# There's an additional argument rug, examine what rug = True does\n",
    "# Hint set kde = False\n",
    "\n",
    "\n",
    "\n",
    "\n",
    "\n"
   ]
  },
  {
   "cell_type": "markdown",
   "metadata": {},
   "source": [
    "### Box and Whisker Plots\n",
    "\n",
    "A box and whisker plot is an excellent way to better understand the distribution of a continuous variable. It creates a box where the bottom (or left) of the box is 25th percentile of the data, the middle line in the box corresponds to the median of the data, and the top corresponds to the 75th percentile of the data. There are also two whiskers that help cover the extremes of the data. Let's see one with the iris data."
   ]
  },
  {
   "cell_type": "code",
   "execution_count": null,
   "metadata": {},
   "outputs": [],
   "source": [
    "sns.boxplot(data = iris, x = 'class', y = 'sepal_length')\n",
    "\n",
    "plt.show()"
   ]
  },
  {
   "cell_type": "markdown",
   "metadata": {},
   "source": [
    "What if we want a horizontal box plot?\n",
    "\n",
    "#### Practice"
   ]
  },
  {
   "cell_type": "code",
   "execution_count": null,
   "metadata": {},
   "outputs": [],
   "source": [
    "# Try to intuite how to make a horizontal box plot\n",
    "\n",
    "\n",
    "\n",
    "\n",
    "\n"
   ]
  },
  {
   "cell_type": "markdown",
   "metadata": {},
   "source": [
    "Note we should be careful with boxplots. They can be misleading. What if in the iris data there were only 10 virginica flowers, but 90 setosa flowers. Here's a quick way around that, we'll see another example in the next section."
   ]
  },
  {
   "cell_type": "code",
   "execution_count": null,
   "metadata": {},
   "outputs": [],
   "source": [
    "plt.figure(figsize = (10,8))\n",
    "ax = sns.boxplot(x=\"class\", y=\"sepal_length\", data=iris)\n",
    " \n",
    "# Calculate number of obs per group & median to position labels\n",
    "medians = iris.groupby(['class'])['sepal_length'].median().values\n",
    "nobs = iris['class'].value_counts().values\n",
    "nobs = [str(x) for x in nobs.tolist()]\n",
    "nobs = [\"n: \" + i for i in nobs]\n",
    " \n",
    "# Add it to the plot\n",
    "pos = range(len(nobs))\n",
    "for tick,label in zip(pos,ax.get_xticklabels()):\n",
    "    ax.text(pos[tick], medians[tick] + 0.03, nobs[tick],\n",
    "            horizontalalignment='center', size=12, \n",
    "            color='w', weight='semibold')\n",
    " \n",
    "plt.show()"
   ]
  },
  {
   "cell_type": "markdown",
   "metadata": {},
   "source": [
    "### Swarm plots\n",
    "\n",
    "What's a swarm plot? Sounds weird.\n",
    "\n",
    "Swarm plots are somewhat similar to box and whisker plots. The plot takes the observations and stacks them up one by one at the observation level. We'll see an example with a pokemon data set found here, https://elitedatascience.com/python-seaborn-tutorial."
   ]
  },
  {
   "cell_type": "code",
   "execution_count": null,
   "metadata": {},
   "outputs": [],
   "source": [
    "pokemon = pd.read_csv(\"Pokemon.csv\")"
   ]
  },
  {
   "cell_type": "code",
   "execution_count": null,
   "metadata": {},
   "outputs": [],
   "source": [
    "pokemon.head()"
   ]
  },
  {
   "cell_type": "code",
   "execution_count": null,
   "metadata": {},
   "outputs": [],
   "source": [
    "pokemon.describe()"
   ]
  },
  {
   "cell_type": "code",
   "execution_count": null,
   "metadata": {},
   "outputs": [],
   "source": [
    "plt.figure(figsize = (14, 8))\n",
    "\n",
    "sns.swarmplot(data = pokemon, x = 'Type 1', y = 'HP')\n",
    "\n",
    "plt.show()"
   ]
  },
  {
   "cell_type": "markdown",
   "metadata": {},
   "source": [
    "This is nice, but for any pokemon fan it isn't aesthetically pleasing, I mean pink for grass types... come on. We can fix that with the palette option. Also let's make the points larger."
   ]
  },
  {
   "cell_type": "code",
   "execution_count": null,
   "metadata": {},
   "outputs": [],
   "source": [
    "pkmn_type_colors = ['#78C850',  # Grass\n",
    "                    '#F08030',  # Fire\n",
    "                    '#6890F0',  # Water\n",
    "                    '#A8B820',  # Bug\n",
    "                    '#A8A878',  # Normal\n",
    "                    '#A040A0',  # Poison\n",
    "                    '#F8D030',  # Electric\n",
    "                    '#E0C068',  # Ground\n",
    "                    '#EE99AC',  # Fairy\n",
    "                    '#C03028',  # Fighting\n",
    "                    '#F85888',  # Psychic\n",
    "                    '#B8A038',  # Rock\n",
    "                    '#705898',  # Ghost\n",
    "                    '#98D8D8',  # Ice\n",
    "                    '#7038F8',  # Dragon\n",
    "                   ]\n",
    "\n",
    "plt.figure(figsize = (14, 8))\n",
    "\n",
    "sns.swarmplot(data = pokemon, x = 'Type 1', y = 'HP', \n",
    "              palette = pkmn_type_colors, size = 7)\n",
    "\n",
    "plt.show()"
   ]
  },
  {
   "cell_type": "markdown",
   "metadata": {},
   "source": [
    "There's another way we can use swarm plots to help us distinguish any potential systematic differences based on class. We first 'melt' a dataframe so that we have the categorical variable in one column and the relevant statistics in another column. We'll see this demonstrated below with the iris data."
   ]
  },
  {
   "cell_type": "code",
   "execution_count": null,
   "metadata": {},
   "outputs": [],
   "source": [
    "iris = pd.read_csv(\"iris.csv\")\n",
    "\n",
    "# \"Melt\" the dataset to \"long-form\" or \"tidy\" representation\n",
    "iris_melt = pd.melt(iris, \"class\", var_name=\"measurement\")\n",
    "\n",
    "iris_melt.head(10)"
   ]
  },
  {
   "cell_type": "code",
   "execution_count": null,
   "metadata": {},
   "outputs": [],
   "source": [
    "iris = pd.read_csv(\"iris.csv\")\n",
    "\n",
    "# \"Melt\" the dataset to \"long-form\" or \"tidy\" representation\n",
    "iris_melt = pd.melt(iris, \"class\", var_name=\"measurement\")\n",
    "\n",
    "plt.figure(figsize=(6,8))\n",
    "# Draw a categorical scatterplot to show each observation\n",
    "sns.swarmplot(x = \"measurement\", y = \"value\", hue = \"class\",\n",
    "              palette = [\"r\", \"c\", \"y\"], data = iris_melt)\n",
    "\n",
    "plt.show()"
   ]
  },
  {
   "cell_type": "markdown",
   "metadata": {},
   "source": [
    "That seems pretty useful! We can see that there appears to be a clear cutoff in petal_length and petal_width for setosa and the other two irises.\n",
    "\n",
    "That's it for `matplotlib` and `seaborn`. Before moving on to `bokeh` I'll leave the following practice problem for you to look at later. \n",
    "\n",
    "Also you can find the documentation for `seaborn` here, https://seaborn.pydata.org. We've only scratched the surface of `seaborn`, it can do a ton of cool stuff."
   ]
  },
  {
   "cell_type": "markdown",
   "metadata": {},
   "source": [
    "#### Practice :^)\n",
    "\n",
    "Below I've written a bunch of code to make a couple of plots. Go through it and convince yourself you understand it."
   ]
  },
  {
   "cell_type": "code",
   "execution_count": null,
   "metadata": {},
   "outputs": [],
   "source": [
    "jr_shots = pd.read_csv(\"JR_Smith_Shots_2015_16.csv\")\n",
    "\n",
    "jr_shots.head()"
   ]
  },
  {
   "cell_type": "code",
   "execution_count": null,
   "metadata": {},
   "outputs": [],
   "source": [
    "# This code comes from Savvas Tjortjoglo, I have written none of it\n",
    "# Visit his page to see his explanations for the code for more help\n",
    "from matplotlib.patches import Circle, Rectangle, Arc\n",
    "\n",
    "def draw_court(ax=None, color='black', lw=2, outer_lines=False):\n",
    "    # If an axes object isn't provided to plot onto, just get current one\n",
    "    if ax is None:\n",
    "        ax = plt.gca()\n",
    "\n",
    "    # Create the various parts of an NBA basketball court\n",
    "\n",
    "    # Create the basketball hoop\n",
    "    # Diameter of a hoop is 18\" so it has a radius of 9\", which is a value\n",
    "    # 7.5 in our coordinate system\n",
    "    hoop = Circle((0, 0), radius=7.5, linewidth=lw, color=color, fill=False)\n",
    "\n",
    "    # Create backboard\n",
    "    backboard = Rectangle((-30, -7.5), 60, -1, linewidth=lw, color=color)\n",
    "\n",
    "    # The paint\n",
    "    # Create the outer box 0f the paint, width=16ft, height=19ft\n",
    "    outer_box = Rectangle((-80, -47.5), 160, 190, linewidth=lw, color=color,\n",
    "                          fill=False)\n",
    "    # Create the inner box of the paint, widt=12ft, height=19ft\n",
    "    inner_box = Rectangle((-60, -47.5), 120, 190, linewidth=lw, color=color,\n",
    "                          fill=False)\n",
    "\n",
    "    # Create free throw top arc\n",
    "    top_free_throw = Arc((0, 142.5), 120, 120, theta1=0, theta2=180,\n",
    "                         linewidth=lw, color=color, fill=False)\n",
    "    # Create free throw bottom arc\n",
    "    bottom_free_throw = Arc((0, 142.5), 120, 120, theta1=180, theta2=0,\n",
    "                            linewidth=lw, color=color, linestyle='dashed')\n",
    "    # Restricted Zone, it is an arc with 4ft radius from center of the hoop\n",
    "    restricted = Arc((0, 0), 80, 80, theta1=0, theta2=180, linewidth=lw,\n",
    "                     color=color)\n",
    "\n",
    "    # Three point line\n",
    "    # Create the side 3pt lines, they are 14ft long before they begin to arc\n",
    "    corner_three_a = Rectangle((-220, -47.5), 0, 140, linewidth=lw,\n",
    "                               color=color)\n",
    "    corner_three_b = Rectangle((220, -47.5), 0, 140, linewidth=lw, color=color)\n",
    "    # 3pt arc - center of arc will be the hoop, arc is 23'9\" away from hoop\n",
    "    # I just played around with the theta values until they lined up with the \n",
    "    # threes\n",
    "    three_arc = Arc((0, 0), 475, 475, theta1=22, theta2=158, linewidth=lw,\n",
    "                    color=color)\n",
    "\n",
    "    # Center Court\n",
    "    center_outer_arc = Arc((0, 422.5), 120, 120, theta1=180, theta2=0,\n",
    "                           linewidth=lw, color=color)\n",
    "    center_inner_arc = Arc((0, 422.5), 40, 40, theta1=180, theta2=0,\n",
    "                           linewidth=lw, color=color)\n",
    "\n",
    "    # List of the court elements to be plotted onto the axes\n",
    "    court_elements = [hoop, backboard, outer_box, inner_box, top_free_throw,\n",
    "                      bottom_free_throw, restricted, corner_three_a,\n",
    "                      corner_three_b, three_arc, center_outer_arc,\n",
    "                      center_inner_arc]\n",
    "\n",
    "    if outer_lines:\n",
    "        # Draw the half court line, baseline and side out bound lines\n",
    "        outer_lines = Rectangle((-250, -47.5), 500, 470, linewidth=lw,\n",
    "                                color=color, fill=False)\n",
    "        court_elements.append(outer_lines)\n",
    "\n",
    "    # Add the court elements onto the axes\n",
    "    for element in court_elements:\n",
    "        ax.add_patch(element)\n",
    "\n",
    "    return ax"
   ]
  },
  {
   "cell_type": "code",
   "execution_count": null,
   "metadata": {},
   "outputs": [],
   "source": [
    "plt.figure()\n",
    "draw_court(outer_lines=True)\n",
    "plt.xlim(-300,300)\n",
    "plt.ylim(-100,500)\n",
    "plt.show()"
   ]
  },
  {
   "cell_type": "code",
   "execution_count": null,
   "metadata": {},
   "outputs": [],
   "source": [
    "JointChart = sns.jointplot(data = jr_shots, x = \"LOC_X\", y = \"LOC_Y\", \n",
    "                            stat_func = None, kind = 'scatter', space = 0, \n",
    "                            alpha = .7)\n",
    "\n",
    "JointChart.fig.set_size_inches((12,11))\n",
    "\n",
    "Court = JointChart.ax_joint\n",
    "draw_court(Court)\n",
    "\n",
    "Court.set_xlim(-250,250)\n",
    "Court.set_ylim(422.5, -47.5)\n",
    "\n",
    "Court.tick_params(labelbottom = \"off\", labelleft = \"off\")\n",
    "Court.set_xlabel('')\n",
    "Court.set_ylabel('')\n",
    "\n",
    "Court.text(70,390,\"JR Smith Shots\",color = 'black',fontsize = 14)\n",
    "Court.text(70,410,\"2015 - 2016 Season\",color = 'black',fontsize = 14)\n",
    "\n",
    "\n",
    "\n",
    "plt.show()"
   ]
  },
  {
   "cell_type": "code",
   "execution_count": null,
   "metadata": {},
   "outputs": [],
   "source": [
    "cmap = plt.cm.plasma\n",
    "JointChart = sns.jointplot(jr_shots.LOC_X, jr_shots.LOC_Y, stat_func=None,\n",
    "                                 kind='kde', space=0, color=cmap(0.1),\n",
    "                                 cmap=cmap, n_levels=15)\n",
    "\n",
    "JointChart.fig.set_size_inches(12,11)\n",
    "Court = JointChart.ax_joint\n",
    "draw_court(Court)\n",
    "Court.set_xlim(-250,250)\n",
    "Court.set_ylim(422.5, -47.5)\n",
    "Court.set_xlabel('')\n",
    "Court.set_ylabel('')\n",
    "Court.tick_params(labelbottom='off', labelleft='off')\n",
    "\n",
    "Court.text(70,390,\"JR Smith Shot Distribution\",color = 'white',fontsize = 14)\n",
    "Court.text(70,410,\"2015 - 2016 Season\",color = 'white',fontsize = 14)\n",
    "\n",
    "plt.show()"
   ]
  },
  {
   "cell_type": "markdown",
   "metadata": {},
   "source": [
    "## Bokeh\n",
    "\n",
    "We'll complete this notebook by seeing how we can make some interactive plots with python. For this will use `bokeh`, if you don't have it installed take this moment to install it. Run `pip install bokeh`, `pip3 install bokeh` if you're using a Mac."
   ]
  },
  {
   "cell_type": "code",
   "execution_count": null,
   "metadata": {},
   "outputs": [],
   "source": [
    "# Run the following to check\n",
    "import bokeh"
   ]
  },
  {
   "cell_type": "markdown",
   "metadata": {},
   "source": [
    "Here's a snippet from `bokeh`'s official documentation page:\n",
    "\n",
    "\"Bokeh is an interactive visualization library that targets modern web browsers for presentation. Bokeh provides elegant, concise construction of versatile graphics with high-performance interactivity over very large or streaming datasets in a quick and easy way from Python (or other languages).\"\n",
    "\n",
    "That's what's nice about `bokeh`, not only does it allow us to make neat interactive plots in python, but it will also produce html files that contain those graphics! This saves us the time of having to learn things like html and javascript. Although, those are still valuable tools.\n",
    "\n",
    "Let's start with a simple example of a `bokeh` plot, and then disect what is going on."
   ]
  },
  {
   "cell_type": "code",
   "execution_count": null,
   "metadata": {},
   "outputs": [],
   "source": [
    "# We import the tools we need from bokeh.plotting\n",
    "from bokeh.plotting import figure, output_notebook, show\n",
    "\n",
    "# Next we generate the data we'll be plotting\n",
    "x = [1,2,3,4,5,6]\n",
    "y = [10,1,-2,7,12,10]\n",
    "\n",
    "# Set our settings to display our plot inside of jupyter\n",
    "output_notebook()\n",
    "\n",
    "# We make a bokeh figure object\n",
    "p = figure(title = \"Our First bokeh Plot\", x_axis_label = \"x\", \n",
    "           y_axis_label = \"y\", y_range = [-3,14])\n",
    "\n",
    "# We now add a line to our figure\n",
    "p.line(x, y, legend = \"Quarterly Returns\", line_width = 3)\n",
    "\n",
    "# Show the plot\n",
    "show(p)"
   ]
  },
  {
   "cell_type": "markdown",
   "metadata": {},
   "source": [
    "This plot is certainly different from our previous plots. For one you can interact with it! Click on it and drag it around. There are also tools along the right. Play around with those and see what they do.\n",
    "\n",
    "Let's review the process here:\n",
    "1. Prepared some data,\n",
    "2. Set where we want the output, in this instance it was the notebook but html is also an option with output_file(),\n",
    "3. We made a figure with the desired settings,\n",
    "4. We added a 'renderer' with .line() giving the desired settings and inputs,\n",
    "5. We told bokeh to show our figure,\n",
    "\n",
    "This is the general procedure for all `bokeh` plots. Why don't you investigate what `circle` does with the following practice problem.\n",
    "\n",
    "#### Practice :0"
   ]
  },
  {
   "cell_type": "code",
   "execution_count": null,
   "metadata": {},
   "outputs": [],
   "source": [
    "# plot the following data with circle\n",
    "x = [1,11,3,-2,5]\n",
    "y = [-2,2,4,5,1]\n",
    "\n",
    "# set it so the plot shows in the notebook\n",
    "output_notebook()\n",
    "\n",
    "# Create the figure here\n",
    "\n",
    "\n",
    "# Create a list of positive multiples of 5\n",
    "# It should be the same length as x and y\n",
    "# Call it rs\n",
    "\n",
    "\n",
    "# Plot the circles here, set size = r\n",
    "\n",
    "\n",
    "\n",
    "# Uncomment this when you'd like to show your plot\n",
    "# show(p)"
   ]
  },
  {
   "cell_type": "markdown",
   "metadata": {},
   "source": [
    "We've made two plots, and we've demonstrated a few of the core concepts in `bokeh`.\n",
    "\n",
    "1. Plots - plots are what we put everything on, the figure() function allowed us to make the plots.\n",
    "\n",
    "2. Glyphs - glyphs are what represent our data on the plot, line() and circle() were two examples of this.\n",
    "\n",
    "3. Ranges - ranges determine the plotting area displayed, these were set with x_range and y_range\n",
    "\n",
    "There are many more things we could cover explicitly with `bokeh`. But that is beyond the scope of this notebook. We'll finish off the notebook with a couple more examples of what `bokeh` is can do. I'll end by linking you to where you can learn more about `bokeh`. Note the snippets of code in the following examples have been adapted from the `bokeh` documentation. I am not the original author."
   ]
  },
  {
   "cell_type": "markdown",
   "metadata": {},
   "source": [
    "les mis \n",
    "ohio poverty 2009 -> practice, choose a state"
   ]
  },
  {
   "cell_type": "markdown",
   "metadata": {},
   "source": [
    "### Hovering Over Data\n",
    "\n",
    "`bokeh` allows us to bind additional information to our data other than just the x and y coordinates. We'll see an example with the elements now."
   ]
  },
  {
   "cell_type": "code",
   "execution_count": null,
   "metadata": {},
   "outputs": [],
   "source": [
    "# Import everything we need from bokeh\n",
    "from bokeh.models import ColumnDataSource, LabelSet\n",
    "from bokeh.sampledata.periodic_table import elements # This is the data"
   ]
  },
  {
   "cell_type": "code",
   "execution_count": null,
   "metadata": {},
   "outputs": [],
   "source": [
    "elements.head()"
   ]
  },
  {
   "cell_type": "markdown",
   "metadata": {},
   "source": [
    "We'll plot atomic weight by density and then provide additional information on the element as we hover over the data points."
   ]
  },
  {
   "cell_type": "code",
   "execution_count": null,
   "metadata": {},
   "outputs": [],
   "source": [
    "## Data Wrangling ##\n",
    "\n",
    "# Make a copy of the data frame\n",
    "elements = elements.copy()\n",
    "\n",
    "# Grab only the elements with atomic number less than 83\n",
    "elements = elements.loc[elements['atomic number'] < 83,]\n",
    "\n",
    "# Remove those elements that are missing a melting point\n",
    "elements = elements[~pd.isnull(elements[\"melting point\"])]\n",
    "\n",
    "# Replace atomic mass with the float version of the data\n",
    "mass = [float(x.strip(\"[]\")) for x in elements[\"atomic mass\"]]\n",
    "elements[\"atomic mass\"] = mass\n",
    "\n",
    "# Set a color palette that we'll use\n",
    "palette = [\"#053061\", \"#2166ac\", \"#4393c3\", \"#92c5de\", \"#d1e5f0\",\n",
    "           \"#f7f7f7\", \"#fddbc7\", \"#f4a582\", \"#d6604d\", \"#b2182b\", \"#67001f\"]\n",
    "\n",
    "# Record the melting points\n",
    "melting_points = elements[\"melting point\"]\n",
    "\n",
    "# Get the min\n",
    "low = min(melting_points)\n",
    "\n",
    "# Get the max\n",
    "high = max(melting_points)\n",
    "\n",
    "# box the melting points of each element into one of 10 boxes for color assignment\n",
    "melting_point_inds = [int(10*(x-low)/(high-low)) for x in melting_points]\n",
    "elements['melting_colors'] = [palette[i] for i in melting_point_inds]\n",
    "\n",
    "# This stores our data in columnar format\n",
    "# Slightly beyond the reach of this lecture\n",
    "# Essentially it stores the data as columns as opposed to rows\n",
    "# This increases speed by limiting the number of searches algorithms have to do.\n",
    "source = ColumnDataSource(elements)"
   ]
  },
  {
   "cell_type": "code",
   "execution_count": null,
   "metadata": {},
   "outputs": [],
   "source": [
    "## Preparing the Figure ##\n",
    "\n",
    "TITLE = \"Density vs Atomic Weight of Elements (colored by melting point)\"\n",
    "\n",
    "# The tools control what will be shown along the side of the plot\n",
    "# Note the hover tool\n",
    "TOOLS = \"hover,pan,wheel_zoom,box_zoom,reset,save\"\n",
    "\n",
    "# Make the figure and give settings\n",
    "p = figure(tools=TOOLS, toolbar_location=\"above\", plot_width=900, \n",
    "           title=TITLE, x_range = (-10,230))\n",
    "p.toolbar.logo = \"grey\"\n",
    "p.background_fill_color = \"#dddddd\"\n",
    "p.xaxis.axis_label = \"atomic weight (amu)\"\n",
    "p.yaxis.axis_label = \"density (g/cm^3)\"\n",
    "p.grid.grid_line_color = \"white\"\n",
    "\n",
    "# Here we set what we want to show up when\n",
    "# the mouse hovers over the data point.\n",
    "p.hover.tooltips = [\n",
    "    (\"name\", \"@name\"),\n",
    "    (\"symbol:\", \"@symbol\"),\n",
    "    (\"density\", \"@density\"),\n",
    "    (\"atomic weight\", \"@{atomic mass}\"),\n",
    "    (\"melting point\", \"@{melting point}\")\n",
    "]"
   ]
  },
  {
   "cell_type": "code",
   "execution_count": null,
   "metadata": {},
   "outputs": [],
   "source": [
    "## Add the glyphs ##\n",
    "\n",
    "# We plot circle glyphs, with atomic mass on the x and\n",
    "# density on the y, we input our columnar data as the source\n",
    "# We also set the color according to the palette we made earlier\n",
    "p.circle(\"atomic mass\", \"density\", size=12, source = source,\n",
    "         color='melting_colors', line_color=\"black\", fill_alpha=0.8)\n",
    "\n",
    "# Now we add a label glyph\n",
    "# the x and y are the same\n",
    "# we add the symbol as the text and give some aesthetic settings\n",
    "labels = LabelSet(x=\"atomic mass\", y=\"density\", text=\"symbol\", y_offset=8,\n",
    "                  text_font_size=\"8pt\", text_color=\"#555555\",\n",
    "                  source=source, text_align='center')\n",
    "p.add_layout(labels)\n",
    "\n",
    "\n",
    "# show the plot\n",
    "show(p)"
   ]
  },
  {
   "cell_type": "markdown",
   "metadata": {},
   "source": [
    "Play around with the plot we just made. What happens when we hover over a point on the plot? This is a nice plot and it appears that there is sort of a pattern in the data, however this could just be spurious.\n",
    "\n",
    "#### Practice :P\n",
    "\n",
    "Make a plot of the beer data. Put abv on the x and ibu on the y. Each unique beer should be circle glyph, and color it by the type of beer. Add a hover feature so that when I hover I can see the name of the beer, the ibu of the beer, the abv of the beer, and the rating of the beer."
   ]
  },
  {
   "cell_type": "code",
   "execution_count": null,
   "metadata": {},
   "outputs": [],
   "source": [
    "# Practice here\n",
    "\n",
    "\n",
    "\n",
    "\n",
    "\n",
    "\n",
    "\n",
    "\n",
    "\n",
    "\n"
   ]
  },
  {
   "cell_type": "markdown",
   "metadata": {},
   "source": [
    "### We did not plot until today\n",
    "\n",
    "We'll now see a `bokeh` plot that was used to analyze a piece of literature, Les Mis (to be fair it is unclear to me if their analyzing the novel or the musical)."
   ]
  },
  {
   "cell_type": "code",
   "execution_count": null,
   "metadata": {},
   "outputs": [],
   "source": [
    "# Import numpy\n",
    "import numpy as np\n",
    "\n",
    "# import the data\n",
    "from bokeh.sampledata.les_mis import data\n",
    "\n",
    "# Set the output as our notebook\n",
    "output_notebook()"
   ]
  },
  {
   "cell_type": "code",
   "execution_count": null,
   "metadata": {},
   "outputs": [],
   "source": [
    "# examine the data\n",
    "data"
   ]
  },
  {
   "cell_type": "markdown",
   "metadata": {},
   "source": [
    "Now the data we just downloaded is a dictionary with two entries, `nodes` and `links`. Each node is a character from Les Miserables and the links have a source a target and a value. So it appears that this dictionary comes from a weighted graph (possibly directed) between the characters of Les Mis. \n",
    "\n",
    "Upon further inspection (aka Googling) I found the original data comes from Mike Bostock in a `d3.js` demonstration, https://bost.ocks.org/mike/miserables/. Here is an adaptation of his description.\n",
    "\n",
    "Each node is a character from the novel Les Miserables. The source and the target are numerical representations of two of the characters. The value of the link refers to the number of chapters of the novel in which the characters both occur. So this data measures the co-occurences of  Les Mis characters. Looking at the data is hard, so it is reasonable to want a visualization of this. What follows is one example of a visualization."
   ]
  },
  {
   "cell_type": "code",
   "execution_count": null,
   "metadata": {},
   "outputs": [],
   "source": [
    "## Data Wrangling ##\n",
    "\n",
    "# Follow our pattern we first handle the data\n",
    "\n",
    "# Grab the nodes\n",
    "nodes = data['nodes']\n",
    "\n",
    "# Now we extract the character names from the nodes,\n",
    "# We sort them by group, all this does is make our plot prettier down the line\n",
    "names = [node['name'] for node in sorted(data['nodes'], key=lambda x: x['group'])]\n",
    "\n",
    "# Now make an N by N matrix (np array)\n",
    "# each entry will be the number of co-occurences of the two characters\n",
    "N = len(nodes)\n",
    "counts = np.zeros((N, N))\n",
    "for link in data['links']:\n",
    "    counts[link['source'], link['target']] = link['value']\n",
    "    counts[link['target'], link['source']] = link['value']\n",
    "    \n",
    "# This will be used to color our data by group\n",
    "colormap = [\"#444444\", \"#a6cee3\", \"#1f78b4\", \"#b2df8a\", \"#33a02c\", \"#fb9a99\",\n",
    "            \"#e31a1c\", \"#fdbf6f\", \"#ff7f00\", \"#cab2d6\", \"#6a3d9a\"]\n",
    "\n",
    "# Now we record all of our data in lists for plotting later\n",
    "xname = []\n",
    "yname = []\n",
    "color = []\n",
    "alpha = []\n",
    "for i, node1 in enumerate(nodes):\n",
    "    for j, node2 in enumerate(nodes):\n",
    "        xname.append(node1['name'])\n",
    "        yname.append(node2['name'])\n",
    "\n",
    "        # We're scaling our counts data here\n",
    "        # We take the min of the count/4 or .9 then we add 0.1\n",
    "        # Why 4? I don't know! We can play around with this \n",
    "        # and see how the plot changes.\n",
    "        alpha.append(min(counts[i,j]/4.0, 0.9) + 0.1)\n",
    "\n",
    "        # If these two characters are in the same group\n",
    "        # we assign them the color for that group\n",
    "        # Else we set their color as light grey\n",
    "        if node1['group'] == node2['group']:\n",
    "            color.append(colormap[node1['group']])\n",
    "        else:\n",
    "            color.append('lightgrey')\n",
    "\n",
    "# Now we store our data in a dictionary\n",
    "# Note that flatten, flattens our 2-d array\n",
    "# into a 1-d array. This is done by row.\n",
    "data=dict(\n",
    "    xname=xname,\n",
    "    yname=yname,\n",
    "    colors=color,\n",
    "    alphas=alpha,\n",
    "    count=counts.flatten(),\n",
    ")"
   ]
  },
  {
   "cell_type": "code",
   "execution_count": null,
   "metadata": {},
   "outputs": [],
   "source": [
    "## Making the Plot ##\n",
    "\n",
    "# We first make our figure\n",
    "# We set it so our x axis is on the top\n",
    "# We have the hover tool\n",
    "# We set our \"ranges\" to be the names of the characters\n",
    "# We do it so that the picture will look like our matrix\n",
    "# Finally we tell the figure what we want to show when we hover\n",
    "p = figure(title=\"Les Mis Occurrences\",\n",
    "           x_axis_location=\"above\", tools=\"hover,save\",\n",
    "           x_range=list(reversed(names)), y_range=names,\n",
    "           tooltips = [('names', '@yname, @xname'), ('count', '@count')])\n",
    "\n",
    "# Set the plot aesthetics\n",
    "p.plot_width = 800\n",
    "p.plot_height = 800\n",
    "p.grid.grid_line_color = None\n",
    "p.axis.axis_line_color = None\n",
    "p.axis.major_tick_line_color = None\n",
    "p.axis.major_label_text_font_size = \"5pt\"\n",
    "p.axis.major_label_standoff = 0\n",
    "p.xaxis.major_label_orientation = np.pi/3"
   ]
  },
  {
   "cell_type": "code",
   "execution_count": null,
   "metadata": {},
   "outputs": [],
   "source": [
    "## Add Glyph ##\n",
    "\n",
    "# We'll add rectangles\n",
    "# we set the width and length to be .9\n",
    "p.rect('xname', 'yname', 0.9, 0.9, source=data,\n",
    "       color='colors', alpha='alphas', line_color=None,\n",
    "       hover_line_color='black', hover_color='colors')\n",
    "\n",
    "# Show the plot\n",
    "show(p)"
   ]
  },
  {
   "cell_type": "markdown",
   "metadata": {},
   "source": [
    "Pretty nifty! \n",
    "\n",
    "Now be aware, the reason this is so aesthetically pleasing is because of that `group` values. Someone produced data ahead of so that when we plotted in this way we'd get nice squares around the diagonal. There was a lot of work that went into cleaning the data ahead of time that we didn't have to worry about.\n",
    "\n",
    "### The State of Unemployment in 2009\n",
    "\n",
    "We'll end our jaunt through `bokeh` with a a plot of county level data on unemployment from 2009. Our example will be on that state up north."
   ]
  },
  {
   "cell_type": "code",
   "execution_count": null,
   "metadata": {},
   "outputs": [],
   "source": [
    "# You need to run this to get the data\n",
    "bokeh.sampledata.download()"
   ]
  },
  {
   "cell_type": "code",
   "execution_count": null,
   "metadata": {},
   "outputs": [],
   "source": [
    "# Import what we need\n",
    "from bokeh.models import LogColorMapper\n",
    "from bokeh.palettes import Viridis6 as palette\n",
    "from bokeh.sampledata.us_counties import data as counties\n",
    "from bokeh.sampledata.unemployment import data as unemployment\n",
    "\n",
    "output_notebook()"
   ]
  },
  {
   "cell_type": "code",
   "execution_count": null,
   "metadata": {},
   "outputs": [],
   "source": [
    "## Wrangling Data ##\n",
    "\n",
    "\n",
    "# Create a dictionary with all of the counties in michigan\n",
    "counties = {\n",
    "    code: county for code, county in counties.items() if county[\"state\"] == \"mi\"\n",
    "}\n",
    "\n",
    "# Extract the longitude and latitude of each county\n",
    "county_xs = [county[\"lons\"] for county in counties.values()]\n",
    "county_ys = [county[\"lats\"] for county in counties.values()]\n",
    "\n",
    "# Extract the county names\n",
    "county_names = [county['name'] for county in counties.values()]\n",
    "\n",
    "# Extract the unemployment rate for each county\n",
    "county_rates = [unemployment[county_id] for county_id in counties]\n",
    "\n",
    "\n",
    "# Prepare colors for the plot\n",
    "palette.reverse()\n",
    "color_mapper = LogColorMapper(palette=palette)\n",
    "\n",
    "# Save all our data in a dictionary\n",
    "data=dict(\n",
    "    x=county_xs,\n",
    "    y=county_ys,\n",
    "    name=county_names,\n",
    "    rate=county_rates,\n",
    ")"
   ]
  },
  {
   "cell_type": "code",
   "execution_count": null,
   "metadata": {},
   "outputs": [],
   "source": [
    "## Make the Figure ##\n",
    "\n",
    "# We'll use these tools\n",
    "TOOLS = \"pan,wheel_zoom,reset,hover,save\"\n",
    "\n",
    "# Make the figure\n",
    "p = figure(\n",
    "    title=\"Michigan Unemployment, 2009\", tools=TOOLS,\n",
    "    x_axis_location=None, y_axis_location=None,\n",
    "    tooltips=[\n",
    "        (\"Name\", \"@name\"), (\"Unemployment rate)\", \"@rate%\"), (\"(Long, Lat)\", \"($x, $y)\")\n",
    "    ])\n",
    "\n",
    "# Set the grid line to be off\n",
    "p.grid.grid_line_color = None\n",
    "\n",
    "\n",
    "p.hover.point_policy = \"follow_mouse\""
   ]
  },
  {
   "cell_type": "code",
   "execution_count": null,
   "metadata": {},
   "outputs": [],
   "source": [
    "## Plot the glyphs ##\n",
    "\n",
    "p.patches('x', 'y', source=data,\n",
    "          fill_color={'field': 'rate', 'transform': color_mapper},\n",
    "          fill_alpha=0.7, line_color=\"white\", line_width=0.5)\n",
    "\n",
    "show(p)"
   ]
  },
  {
   "cell_type": "markdown",
   "metadata": {},
   "source": [
    "#### Practice "
   ]
  },
  {
   "cell_type": "code",
   "execution_count": null,
   "metadata": {},
   "outputs": [],
   "source": [
    "# Pick a state and make a 2009 unemployment plot\n",
    "# Don't just copy and paste, do your best to \n",
    "# recreate the plot on your own\n",
    "\n",
    "\n",
    "\n",
    "\n",
    "\n",
    "\n",
    "\n"
   ]
  },
  {
   "cell_type": "markdown",
   "metadata": {},
   "source": [
    "To learn more about `bokeh` check out the docs, https://bokeh.pydata.org/en/latest/index.html. You should have a vague enough idea of how it works now to get started. I hope to see it in some of the group projects for this year's boot camps! "
   ]
  },
  {
   "cell_type": "markdown",
   "metadata": {},
   "source": [
    "## Wrapping it Up\n",
    "\n",
    "Well we've done a lot in this notebook. We started with 'simple' plots in `matplotlib`, got a little fancier with `seaborn`, and saw the power of `bokeh` first hand. There are a number of other plotting packages in python you can explore, that's part of the beauty of an open source language. Each has pros and cons and the one that you use really depends on your needs. "
   ]
  }
 ],
 "metadata": {
  "kernelspec": {
   "display_name": "Python 3",
   "language": "python",
   "name": "python3"
  },
  "language_info": {
   "codemirror_mode": {
    "name": "ipython",
    "version": 3
   },
   "file_extension": ".py",
   "mimetype": "text/x-python",
   "name": "python",
   "nbconvert_exporter": "python",
   "pygments_lexer": "ipython3",
   "version": "3.7.3"
  }
 },
 "nbformat": 4,
 "nbformat_minor": 2
}
